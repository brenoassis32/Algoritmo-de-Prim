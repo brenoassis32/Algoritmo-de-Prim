{
  "nbformat": 4,
  "nbformat_minor": 0,
  "metadata": {
    "colab": {
      "provenance": []
    },
    "kernelspec": {
      "name": "python3",
      "display_name": "Python 3"
    },
    "language_info": {
      "name": "python"
    }
  },
  "cells": [
    {
      "cell_type": "markdown",
      "source": [
        "## Importando a classe Grafo"
      ],
      "metadata": {
        "id": "EJXnkrzYkTPE"
      }
    },
    {
      "cell_type": "code",
      "source": [
        "from class_grafo import *\n",
        "\n"
      ],
      "metadata": {
        "id": "txDxWcIvwbBX"
      },
      "execution_count": 4,
      "outputs": []
    },
    {
      "cell_type": "markdown",
      "source": [
        "## Passando a quantidade de vértices"
      ],
      "metadata": {
        "id": "2S3sdxeCkR6c"
      }
    },
    {
      "cell_type": "code",
      "source": [
        "g6=Grafo(4)\n",
        "\n"
      ],
      "metadata": {
        "id": "3044nNOZkLBU"
      },
      "execution_count": 5,
      "outputs": []
    },
    {
      "cell_type": "markdown",
      "source": [
        "## Adicionando arestas seguindo o formato: .addAresta(vértice1, vértice2, peso da aresta)"
      ],
      "metadata": {
        "id": "vuEkiyHwlA3q"
      }
    },
    {
      "cell_type": "code",
      "source": [
        "g6.addAresta(1, 2, 1)\n",
        "g6.addAresta(1, 4, 2)\n",
        "g6.addAresta(2, 3, 3)\n",
        "g6.addAresta(2, 4, 4)\n",
        "g6.addAresta(3, 4, 5)"
      ],
      "metadata": {
        "id": "jXnW_VQ0lP1p"
      },
      "execution_count": 6,
      "outputs": []
    },
    {
      "cell_type": "markdown",
      "source": [
        "## Executando o algortimo de PRIM"
      ],
      "metadata": {
        "id": "l8yjYZzulhO1"
      }
    },
    {
      "cell_type": "code",
      "source": [
        "g6.prim()"
      ],
      "metadata": {
        "id": "gyy4Wm2PlpMk"
      },
      "execution_count": 7,
      "outputs": []
    },
    {
      "cell_type": "markdown",
      "source": [
        "## Obtendo o comprimento da árvore de peso mínimo"
      ],
      "metadata": {
        "id": "sPaSOS5aluzp"
      }
    },
    {
      "cell_type": "code",
      "source": [
        "print(g6.retornaValorCusto())"
      ],
      "metadata": {
        "colab": {
          "base_uri": "https://localhost:8080/"
        },
        "id": "H_-Yv1ygmou6",
        "outputId": "c889e464-2e50-40c4-9e61-bc14507aca8f"
      },
      "execution_count": 8,
      "outputs": [
        {
          "output_type": "stream",
          "name": "stdout",
          "text": [
            "6\n"
          ]
        }
      ]
    },
    {
      "cell_type": "markdown",
      "source": [
        "## Obtendo a árvore geradora de peso mínimo"
      ],
      "metadata": {
        "id": "C-OClV4gmYJJ"
      }
    },
    {
      "cell_type": "code",
      "source": [
        "g6.retornaValorRota()"
      ],
      "metadata": {
        "colab": {
          "base_uri": "https://localhost:8080/",
          "height": 35
        },
        "id": "s-s0yB7UmUca",
        "outputId": "20a1ecb6-7827-4a32-b85e-465c27e03b71"
      },
      "execution_count": 9,
      "outputs": [
        {
          "output_type": "execute_result",
          "data": {
            "text/plain": [
              "'ST = {(1,2);(1,4);(2,3)}'"
            ],
            "application/vnd.google.colaboratory.intrinsic+json": {
              "type": "string"
            }
          },
          "metadata": {},
          "execution_count": 9
        }
      ]
    }
  ]
}